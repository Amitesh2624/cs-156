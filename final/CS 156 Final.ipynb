{
 "cells": [
  {
   "cell_type": "code",
   "execution_count": 125,
   "id": "5ffcdc28",
   "metadata": {},
   "outputs": [],
   "source": [
    "import numpy as np\n",
    "import math\n",
    "from sklearn import svm, model_selection\n",
    "from sklearn.model_selection import RepeatedStratifiedKFold\n",
    "from sklearn.linear_model import Ridge\n",
    "from sklearn.linear_model import RidgeClassifier\n",
    "from sklearn.kernel_ridge import KernelRidge\n",
    "from sklearn.cluster import KMeans\n",
    "import matplotlib.pyplot as plt\n",
    "import random"
   ]
  },
  {
   "cell_type": "code",
   "execution_count": 46,
   "id": "3adf6a37",
   "metadata": {},
   "outputs": [],
   "source": [
    "train_data = np.loadtxt('features_final.train')\n",
    "test_data = np.loadtxt('features_final.test')"
   ]
  },
  {
   "cell_type": "code",
   "execution_count": 47,
   "id": "105a458e",
   "metadata": {},
   "outputs": [],
   "source": [
    "x_train = train_data[:,1:]\n",
    "y_train = train_data[:,0]\n",
    "\n",
    "x_test = test_data[:,1:]\n",
    "y_test = test_data[:,0]"
   ]
  },
  {
   "cell_type": "code",
   "execution_count": 48,
   "id": "cf20846b",
   "metadata": {},
   "outputs": [],
   "source": [
    "def transform(xvals, toTransform=False):\n",
    "    new_x = []\n",
    "    if not toTransform:\n",
    "        for row in xvals:\n",
    "            x1 = row[0]\n",
    "            x2 = row[1]\n",
    "            new_x.append(np.asarray([1, x1, x2]))\n",
    "    else:\n",
    "        for row in xvals:\n",
    "            x1 = row[0]\n",
    "            x2 = row[1]\n",
    "            new_x.append(np.asarray([1, x1, x2, x1*x2, x1**2, x2**2]))\n",
    "    return np.asarray(new_x)"
   ]
  },
  {
   "cell_type": "code",
   "execution_count": 49,
   "id": "4763be13",
   "metadata": {},
   "outputs": [],
   "source": [
    "def binarize(posDigit, yvals):\n",
    "    return np.array([1 if classval == posDigit else -1 for classval in yvals])"
   ]
  },
  {
   "cell_type": "code",
   "execution_count": 81,
   "id": "ac8f4455",
   "metadata": {},
   "outputs": [
    {
     "name": "stdout",
     "output_type": "stream",
     "text": [
      "-------------------------\n",
      "Classifier: 0 versus all\n",
      "Eout_trans: 0.10662680617837572\n",
      "\n",
      "-------------------------\n",
      "Classifier: 1 versus all\n",
      "Eout_trans: 0.0219232685600399\n",
      "\n",
      "-------------------------\n",
      "Classifier: 2 versus all\n",
      "Eout_trans: 0.09865470852017932\n",
      "\n",
      "-------------------------\n",
      "Classifier: 3 versus all\n",
      "Eout_trans: 0.08271051320378675\n",
      "\n",
      "-------------------------\n",
      "Classifier: 4 versus all\n",
      "Eout_trans: 0.09965122072745392\n",
      "\n",
      "-------------------------\n",
      "Classifier: 5 versus all\n",
      "Ein_bias: 0.07625840076807022\n",
      "\n",
      "-------------------------\n",
      "Classifier: 6 versus all\n",
      "Ein_bias: 0.09107118365107669\n",
      "\n",
      "-------------------------\n",
      "Classifier: 7 versus all\n",
      "Ein_bias: 0.08846523110684401\n",
      "\n",
      "-------------------------\n",
      "Classifier: 8 versus all\n",
      "Ein_bias: 0.074338225209162\n",
      "\n",
      "-------------------------\n",
      "Classifier: 9 versus all\n",
      "Ein_bias: 0.08832807570977919\n",
      "\n"
     ]
    }
   ],
   "source": [
    "for classval in range(10):\n",
    "    x_train_bias = transform(x_train)\n",
    "    x_train_transform = transform(x_train, True)\n",
    "    x_test_bias = transform(x_test)\n",
    "    x_test_transform = transform(x_test, True)\n",
    "    binary_y_train = binarize(classval, y_train)\n",
    "    binary_y_test = binarize(classval, y_test)\n",
    "    model = RidgeClassifier(alpha = 1)\n",
    "    \n",
    "    print('-'*25, end = '\\n')\n",
    "    print('Classifier: ' + str(classval) + ' versus all')\n",
    "    if classval in range(5):\n",
    "        model.fit(x_train_transform, binary_y_train)\n",
    "        print('Eout_trans: ' + str(1 - model.score(x_test_transform, binary_y_test)))\n",
    "    else:\n",
    "        model.fit(x_train_bias, binary_y_train)\n",
    "        print('Ein_bias: ' + str(1 - model.score(x_train_bias, binary_y_train)))\n",
    "    print()\n",
    "\n",
    "\n"
   ]
  },
  {
   "cell_type": "code",
   "execution_count": 88,
   "id": "6256de62",
   "metadata": {},
   "outputs": [
    {
     "name": "stdout",
     "output_type": "stream",
     "text": [
      "Always Overfits:  False\n",
      "Always Improves by 5%+:  False\n",
      "Never affects change on out sample error:  False\n",
      "Always worsens by 5%+:  False\n",
      "For 5 versus all, e_out_transform is 99.3750000000001% of e_out_bias\n"
     ]
    }
   ],
   "source": [
    "always_overfit = True\n",
    "always_improves = True\n",
    "no_diff = True\n",
    "always_worsens = True\n",
    "fiveall = 0\n",
    "for classval in range(9):\n",
    "    x_train_bias = transform(x_train)\n",
    "    x_train_transform = transform(x_train, True)\n",
    "    x_test_bias = transform(x_test)\n",
    "    x_test_transform = transform(x_test, True)\n",
    "    binary_y_train = binarize(classval, y_train)\n",
    "    binary_y_test = binarize(classval, y_test)\n",
    "    \n",
    "    model = RidgeClassifier(alpha = 1)\n",
    "    model.fit(x_train_bias, binary_y_train)\n",
    "    e_in_bias = 1 - model.score(x_train_bias, binary_y_train)\n",
    "    e_out_bias = 1 - model.score(x_test_bias, binary_y_test)\n",
    "    model.fit(x_train_transform, binary_y_train)\n",
    "    e_in_trans = 1 - model.score(x_train_transform, binary_y_train)\n",
    "    e_out_trans = 1 - model.score(x_test_transform, binary_y_test)\n",
    "    \n",
    "    if e_in_trans > e_out_trans:\n",
    "        always_overfit = False\n",
    "    if not(e_out_trans <= 0.95*e_out_bias):\n",
    "        always_improves = False\n",
    "    if e_out_bias != e_out_trans:\n",
    "        no_diff = False\n",
    "    if not(e_out_trans >= 1.05*e_out_bias):\n",
    "        always_worsens = False\n",
    "    if classval == 5:\n",
    "        fiveall = 100*(e_out_trans/e_out_bias)\n",
    "print('Always Overfits: ', always_overfit)\n",
    "print('Always Improves by 5%+: ', always_improves)\n",
    "print('Never affects change on out sample error: ', no_diff)\n",
    "print('Always worsens by 5%+: ', always_worsens)\n",
    "print('For 5 versus all, e_out_transform is ' + str(fiveall) + '% of e_out_bias')"
   ]
  },
  {
   "cell_type": "code",
   "execution_count": 74,
   "id": "83a65842",
   "metadata": {},
   "outputs": [],
   "source": [
    "x_train_new = np.asarray([x_train[i] for i in range(len(x_train)) if y_train[i] in [1,5]])\n",
    "y_train_p = [y_train[i] for i in range(len(y_train)) if y_train[i] in[1,5]]\n",
    "y_train_new = np.asarray([y_train_p[i] if y_train_p[i] == 1 else -1 for i in range(len(y_train_p))])\n",
    "\n",
    "x_test_new = np.asarray([x_test[i] for i in range(len(x_test)) if y_test[i] in [1,5]])\n",
    "y_test_p = [y_test[i] for i in range(len(y_test)) if y_test[i] in[1,5]]\n",
    "y_test_new = np.asarray([y_test_p[i] if y_test_p[i] == 1 else -1 for i in range(len(y_test_p))])\n",
    "\n",
    "x_train_one = transform(x_train_new)\n",
    "x_train_two = transform(x_train_new, True)\n",
    "x_test_one = transform(x_test_new)\n",
    "x_test_two = transform(x_test_new, True)"
   ]
  },
  {
   "cell_type": "code",
   "execution_count": 78,
   "id": "0325cdd7",
   "metadata": {},
   "outputs": [
    {
     "name": "stdout",
     "output_type": "stream",
     "text": [
      "-------------------------\n",
      "At lambda = 1\n",
      "Ein: 0.005124919923126248\n",
      "Eout: 0.02594339622641506\n",
      "-------------------------\n",
      "At lambda = 0.01\n",
      "Ein: 0.004484304932735439\n",
      "Eout: 0.028301886792452824\n"
     ]
    }
   ],
   "source": [
    "lambdav = [1, 0.01]\n",
    "for l in lambdav:\n",
    "    print('-'*25)\n",
    "    print('At lambda = ' + str(l))\n",
    "    model = RidgeClassifier(alpha = l)\n",
    "    model.fit(x_train_two, y_train_new)\n",
    "    print('Ein: ' + str(1 - model.score(x_train_two, y_train_new)))\n",
    "    print('Eout: ' + str(1 - model.score(x_test_two, y_test_new)))"
   ]
  },
  {
   "cell_type": "code",
   "execution_count": 99,
   "id": "a3bbcf9c",
   "metadata": {},
   "outputs": [
    {
     "data": {
      "image/png": "[encoded data removed]",
      "text/plain": [
       "<Figure size 640x480 with 1 Axes>"
      ]
     },
     "metadata": {},
     "output_type": "display_data"
    }
   ],
   "source": [
    "data = [[(1, 0), -1], [(0, 1), -1], [(0, -1), -1],\n",
    "     [(-1, 0), 1], [(0, 2), 1], [(0, -2), 1],\n",
    "     [(-2, 0), 1]]\n",
    "\n",
    "minus_one = []\n",
    "plus_one = []\n",
    "\n",
    "for point in data:\n",
    "    x1, x2 = point[0]\n",
    "    z1, z2 = [x2**2 - 2*x1 - 1, x1**2 - 2*x2 + 1]\n",
    "    if point[1] == -1:\n",
    "        minus_one.append([z1, z2])\n",
    "    else:\n",
    "        plus_one.append([z1, z2])\n",
    "\n",
    "minus_one = np.asarray(minus_one)\n",
    "plus_one = np.asarray(plus_one)\n",
    "\n",
    "plt.plot(plus_one[:, 0], plus_one[:, 1], 'co')\n",
    "plt.plot(minus_one[:, 0], minus_one[:, 1], 'mo')\n",
    "plt.xlabel('z1')\n",
    "plt.ylabel('z2')\n",
    "plt.title(\"Plot after transformation\")\n",
    "plt.show()"
   ]
  },
  {
   "cell_type": "code",
   "execution_count": 107,
   "id": "ae266a30",
   "metadata": {},
   "outputs": [
    {
     "name": "stdout",
     "output_type": "stream",
     "text": [
      "Num support vectors at C = 10e-5: 6\n",
      "Num support vectors at C = 10e-4: 6\n",
      "Num support vectors at C = 10e-3: 7\n",
      "Num support vectors at C = 10e-2: 7\n",
      "Num support vectors at C = 10e-1: 7\n",
      "Num support vectors at C = 10e0: 7\n",
      "Num support vectors at C = 10e1: 5\n",
      "Num support vectors at C = 10e2: 5\n",
      "Num support vectors at C = 10e3: 5\n",
      "Num support vectors at C = 10e4: 5\n",
      "Num support vectors at C = 10e5: 5\n",
      "Num support vectors at C = 10e6: 5\n",
      "Num support vectors at C = 10e7: 5\n",
      "Num support vectors at C = 10e8: 5\n",
      "Num support vectors at C = 10e9: 5\n"
     ]
    }
   ],
   "source": [
    "xvals = []\n",
    "yvals = []\n",
    "for point in data:\n",
    "    xvals.append(point[0])\n",
    "    yvals.append(point[1])\n",
    "for exp in range(-5,10):\n",
    "    model = svm.SVC(kernel = 'poly', degree = 2, C=10**exp)\n",
    "    model.fit(xvals, yvals)\n",
    "    print('Num support vectors at C = 10e' + str(exp) +': ' + str(sum(model.n_support_)))"
   ]
  },
  {
   "cell_type": "code",
   "execution_count": 115,
   "id": "fabe9355",
   "metadata": {},
   "outputs": [],
   "source": [
    "def f(x):\n",
    "    x_1, x_2 = x\n",
    "    val = x_2 - x_1 + 0.25*math.sin(math.pi * x_1)\n",
    "    if val == abs(val):\n",
    "        return +1\n",
    "    else:\n",
    "        return -1"
   ]
  },
  {
   "cell_type": "code",
   "execution_count": 152,
   "id": "2762d980",
   "metadata": {},
   "outputs": [],
   "source": [
    "def generate_data(N):\n",
    "    dataset_x = []\n",
    "    dataset_y = []\n",
    "    for i in range(N):\n",
    "        x_1 = random.uniform(-1, 1)\n",
    "        x_2 = random.uniform(-1, 1)\n",
    "        y = f([x_1, x_2])\n",
    "        dataset_x.append([x_1, x_2])\n",
    "        dataset_y.append(y)\n",
    "    return [dataset_x, dataset_y]\n",
    "    "
   ]
  },
  {
   "cell_type": "code",
   "execution_count": 117,
   "id": "34388ace",
   "metadata": {},
   "outputs": [
    {
     "name": "stdout",
     "output_type": "stream",
     "text": [
      "Dataset was inseparable 0.0% of the times\n"
     ]
    }
   ],
   "source": [
    "num_experiments = 1000\n",
    "num_inseparable = 0\n",
    "for i in range(num_experiments):\n",
    "    x, y = generate_data(100)\n",
    "    model = svm.SVC(kernel = 'rbf', C = 100000, gamma = 1.5)\n",
    "    model.fit(x, y)\n",
    "    if (1 - model.score(x, y)) != 0:\n",
    "        num_inseparable += 1\n",
    "print('Dataset was inseparable ' + str(100*num_inseparable/num_experiments) + '% of the times')"
   ]
  },
  {
   "cell_type": "code",
   "execution_count": 144,
   "id": "564fa194",
   "metadata": {},
   "outputs": [],
   "source": [
    "def RBF_REG(x,mu, gamma=1.5):\n",
    "    return np.exp(-gamma*np.sum((x-mu)**2))\n",
    "\n",
    "def RBF_N(xs, ct, gamma):\n",
    "    z = np.zeros((xs.shape[0], 1+ct.shape[0]))\n",
    "    z[:,0] = np.ones(xs.shape[0])\n",
    "    for i in range(ct.shape[0]):\n",
    "        z[:,i+1] = np.apply_along_axis(RBF_REG, 1, xs, ct[i], gamma)\n",
    "    return z\n",
    "\n",
    "def get_weight(P, PT, l, y):\n",
    "    inter = np.matmul(np.linalg.inv(np.matmul(PT, P) \n",
    "                     + l*np.identity(len(np.matmul(PT, P)))), PT)\n",
    "    w_final = np.matmul(inter, y)\n",
    "    return w_final\n",
    "\n",
    "def regRBF_N(xs, yn, n_clusters, gamma):\n",
    "    km = KMeans(n_clusters=n_clusters).fit(xs)\n",
    "    ct = km.cluster_centers_\n",
    "    z = RBF_N(xs, ct, gamma=gamma)\n",
    "    w = get_weight(z, z.T, 0, yn)\n",
    "    y_pred = np.dot(z, w)\n",
    "    Ein = np.sum(y_pred*yn < 0)/(1.0*yn.size)\n",
    "    return Ein, w, ct"
   ]
  },
  {
   "cell_type": "code",
   "execution_count": 179,
   "id": "dd7f1c2a",
   "metadata": {},
   "outputs": [],
   "source": [
    "def experiment(num_clusters, gamma=1.5):\n",
    "    d1 = generate_data(200)\n",
    "    d2 = generate_data(200)\n",
    "    xn, yn = np.asarray(d1[0]), np.asarray(d1[1])\n",
    "    xn_test, yn_test = np.asarray(d2[0]), np.asarray(d2[1])\n",
    "    Ein_reg, w, centers = regRBF_N(xn, yn, num_clusters, gamma=gamma)\n",
    "    z_out = RBF_N(xn_test, centers, gamma=gamma)\n",
    "    y_pred = np.dot(z_out, w)\n",
    "    Eout_reg = np.sum(y_pred*yn_test < 0)/(200.0)\n",
    "    model = svm.SVC(kernel = 'rbf', C = 1000000)\n",
    "    model.fit(xn, yn)\n",
    "    y_pred_kern = model.predict(xn_test)\n",
    "    Ein_kern = np.sum(y_pred_kern*yn<0)/(200.0)\n",
    "    Eout_kern = np.sum(y_pred_kern*yn_test<0)/(200.0)\n",
    "    return Ein_reg, Eout_reg, Ein_kern, Eout_kern"
   ]
  },
  {
   "cell_type": "code",
   "execution_count": 180,
   "id": "0706d332",
   "metadata": {},
   "outputs": [
    {
     "name": "stdout",
     "output_type": "stream",
     "text": [
      "Kernel beats regular RBF 93% of the times\n"
     ]
    }
   ],
   "source": [
    "count = 0\n",
    "for i in range(100):\n",
    "    a, Eout_reg, b, Eout_kern = experiment(num_clusters=9)\n",
    "    if Eout_reg  > Eout_kern:\n",
    "        count += 1\n",
    "\n",
    "print('Kernel beats regular RBF ' + str(count) + '% of the times')"
   ]
  },
  {
   "cell_type": "code",
   "execution_count": 181,
   "id": "f048450d",
   "metadata": {},
   "outputs": [
    {
     "name": "stdout",
     "output_type": "stream",
     "text": [
      "Kernel beats regular RBF 82% of the times\n"
     ]
    }
   ],
   "source": [
    "count = 0\n",
    "for i in range(100):\n",
    "    a, Eout_reg, b, Eout_kern = experiment(num_clusters=12)\n",
    "    if Eout_reg  > Eout_kern:\n",
    "        count += 1\n",
    "\n",
    "print('Kernel beats regular RBF ' + str(count) + '% of the times')"
   ]
  },
  {
   "cell_type": "code",
   "execution_count": 183,
   "id": "9a35885b",
   "metadata": {},
   "outputs": [
    {
     "name": "stdout",
     "output_type": "stream",
     "text": [
      "Ein goes up with num_clusters 17% times\n",
      "Ein goes down with num_clusters 83% times\n",
      "Eout goes up with num_clusters 24% times\n",
      "Eout goes down with num_clusters 76% times\n"
     ]
    }
   ],
   "source": [
    "e_intruth = []\n",
    "e_outruth = []\n",
    "for i in range(100):\n",
    "    ein9, eout9, _,_ = experiment(9)\n",
    "    ein12, eout12, _,_ = experiment(12)\n",
    "    e_intruth.append(ein9 < ein12)\n",
    "    e_outruth.append(eout9 < eout12)\n",
    "print('Ein goes up with num_clusters ' + str(e_intruth.count(True)) +'% times')\n",
    "print('Ein goes down with num_clusters ' + str(e_intruth.count(False)) +'% times')\n",
    "print('Eout goes up with num_clusters ' + str(e_outruth.count(True)) +'% times')\n",
    "print('Eout goes down with num_clusters ' + str(e_outruth.count(False)) +'% times')"
   ]
  },
  {
   "cell_type": "code",
   "execution_count": 184,
   "id": "f8a87462",
   "metadata": {
    "scrolled": true
   },
   "outputs": [
    {
     "name": "stdout",
     "output_type": "stream",
     "text": [
      "Ein goes up with gamma 52% times\n",
      "Ein goes down with gamma 48% times\n",
      "Eout goes up with gamma 58% times\n",
      "Eout goes down with gamma 42% times\n"
     ]
    }
   ],
   "source": [
    "e_intruth = []\n",
    "e_outruth = []\n",
    "for i in range(100):\n",
    "    ein9, eout9, _,_ = experiment(9, 1.5)\n",
    "    ein12, eout12, _,_ = experiment(9, 2)\n",
    "    e_intruth.append(ein9 < ein12)\n",
    "    e_outruth.append(eout9 < eout12)\n",
    "print('Ein goes up with gamma ' + str(e_intruth.count(True)) +'% times')\n",
    "print('Ein goes down with gamma ' + str(e_intruth.count(False)) +'% times')\n",
    "print('Eout goes up with gamma ' + str(e_outruth.count(True)) +'% times')\n",
    "print('Eout goes down with gamma ' + str(e_outruth.count(False)) +'% times')"
   ]
  },
  {
   "cell_type": "code",
   "execution_count": 188,
   "id": "c31f38e0",
   "metadata": {},
   "outputs": [
    {
     "name": "stdout",
     "output_type": "stream",
     "text": [
      "Ein is 0 a total 0% times\n"
     ]
    }
   ],
   "source": [
    "ct = 0\n",
    "for i in range(100):\n",
    "    ein9, eout9, _,_ = experiment(9, 1.5)\n",
    "    if ein9 ==0:\n",
    "        ct += 1\n",
    "print('Ein is 0 a total ' + str(ct) +'% times')"
   ]
  }
 ],
 "metadata": {
  "kernelspec": {
   "display_name": "Python 3 (ipykernel)",
   "language": "python",
   "name": "python3"
  },
  "language_info": {
   "codemirror_mode": {
    "name": "ipython",
    "version": 3
   },
   "file_extension": ".py",
   "mimetype": "text/x-python",
   "name": "python",
   "nbconvert_exporter": "python",
   "pygments_lexer": "ipython3",
   "version": "3.10.9"
  }
 },
 "nbformat": 4,
 "nbformat_minor": 5
}
