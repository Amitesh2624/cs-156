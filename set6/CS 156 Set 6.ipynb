{
 "cells": [
  {
   "cell_type": "code",
   "execution_count": 1,
   "id": "c2ccd6cf",
   "metadata": {},
   "outputs": [],
   "source": [
    "import numpy as np\n",
    "in_sample_data = []\n",
    "out_sample_data = []\n",
    "with open('in_dta.txt', 'r') as f:\n",
    "    for line in f:\n",
    "        in_sample_data.append(line)\n",
    "with open('out_dta.txt', 'r') as f:\n",
    "    for line in f:\n",
    "        out_sample_data.append(line)"
   ]
  },
  {
   "cell_type": "code",
   "execution_count": 2,
   "id": "507c66ab",
   "metadata": {},
   "outputs": [],
   "source": [
    "for i in range(len(in_sample_data)):\n",
    "    act = in_sample_data[i].split(' ')\n",
    "    act2 = []\n",
    "    for val in act:\n",
    "        if val != '':\n",
    "            act2.append(float(val))\n",
    "    in_sample_data[i] = act2\n",
    "in_sample_data = np.asarray(in_sample_data)"
   ]
  },
  {
   "cell_type": "code",
   "execution_count": 3,
   "id": "ff6c18f0",
   "metadata": {},
   "outputs": [],
   "source": [
    "for i in range(len(out_sample_data)):\n",
    "    act = out_sample_data[i].split(' ')\n",
    "    act2 = []\n",
    "    for val in act:\n",
    "        if val != '':\n",
    "            act2.append(float(val))\n",
    "    out_sample_data[i] = act2\n",
    "out_sample_data = np.asarray(out_sample_data)"
   ]
  },
  {
   "cell_type": "code",
   "execution_count": 4,
   "id": "2c74eb9f",
   "metadata": {},
   "outputs": [],
   "source": [
    "def non_linear_transform(X):\n",
    "    x_transformed = []\n",
    "    for x in X:\n",
    "        x1 = x[0]\n",
    "        x2 = x[1]\n",
    "        x_transformed.append([1, x1, x2, x1**2, x2**2, x1*x2, abs(x1 - x2),abs(x1 + x2)])\n",
    "    return np.asarray(x_transformed)"
   ]
  },
  {
   "cell_type": "code",
   "execution_count": 5,
   "id": "230a6e93",
   "metadata": {},
   "outputs": [],
   "source": [
    "def linear_regression(X, y):\n",
    "    X_plus = np.linalg.inv(X.transpose().dot(X)).dot(X.transpose())\n",
    "    w = X_plus.dot(y)\n",
    "    return(w)"
   ]
  },
  {
   "cell_type": "code",
   "execution_count": 6,
   "id": "818b41ad",
   "metadata": {},
   "outputs": [],
   "source": [
    "def linear_regression_weight_decay(X, y, l):\n",
    "    X_prime = np.linalg.inv(X.transpose().dot(X)+l*np.eye(X.shape[1])).dot(X.transpose())\n",
    "    w = X_prime.dot(y)\n",
    "    return(w)"
   ]
  },
  {
   "cell_type": "code",
   "execution_count": 7,
   "id": "bbbec056",
   "metadata": {},
   "outputs": [],
   "source": [
    "def get_error(X, w, y):\n",
    "    correct_pos = []\n",
    "    ct = 0\n",
    "    for x in X:\n",
    "        if np.sign(w.dot(x)) == y[ct]:\n",
    "            correct_pos.append(ct)\n",
    "        ct += 1\n",
    "    err = 1-len(correct_pos)/float(ct)\n",
    "    return err"
   ]
  },
  {
   "cell_type": "code",
   "execution_count": 8,
   "id": "e76b1e74",
   "metadata": {},
   "outputs": [
    {
     "name": "stdout",
     "output_type": "stream",
     "text": [
      "Regular Linear Regression: (0.03, 0.08)\n",
      "Linear Regression with weight decay k = -3: (0.03, 0.08)\n",
      "Linear Regression with weight decay k = 3: (0.37, 0.44)\n",
      "Linear Regression with weight decay k = 2: (0.2, 0.23)\n",
      "Linear Regression with weight decay k = 1: (0.06, 0.12)\n",
      "Linear Regression with weight decay k = 0: (0.0, 0.09)\n",
      "Linear Regression with weight decay k = -1: (0.03, 0.06)\n",
      "Linear Regression with weight decay k = -2: (0.03, 0.08)\n"
     ]
    }
   ],
   "source": [
    "X = in_sample_data[:,:2]\n",
    "y = in_sample_data[:,2]\n",
    "Z = non_linear_transform(X)\n",
    "w = linear_regression(Z,y)\n",
    "in_sample_err = get_error(Z,w,y)\n",
    "test_X = out_sample_data[:,:2]\n",
    "test_Z = non_linear_transform(test_X)\n",
    "test_y = out_sample_data[:,2]\n",
    "out_sample_err = get_error(test_Z,w,test_y)\n",
    "print('Regular Linear Regression: ('+ str(round(in_sample_err, 2)) + ', ' + str(round(out_sample_err,2)) + ')')\n",
    "for k in [-3, 3, 2, 1, 0, -1, -2]:\n",
    "    l = 10**(k)\n",
    "    X = in_sample_data[:,:2]\n",
    "    X = non_linear_transform(X)\n",
    "    y = in_sample_data[:,2]\n",
    "    w = linear_regression_weight_decay(X,y,l)\n",
    "    in_sample_err = get_error(X,w,y)\n",
    "    test_X = non_linear_transform(out_sample_data[:,:2])\n",
    "    test_y = out_sample_data[:,2]\n",
    "    out_sample_err = get_error(test_X,w,test_y)\n",
    "    print('Linear Regression with weight decay' + ' k = ' + str(k) + ': ('+ str(round(in_sample_err, 2)) + ', ' + str(round(out_sample_err,2)) + ')')"
   ]
  },
  {
   "cell_type": "code",
   "execution_count": 14,
   "id": "13322c5e",
   "metadata": {},
   "outputs": [
    {
     "name": "stdout",
     "output_type": "stream",
     "text": [
      "0.05600000000000005\n"
     ]
    }
   ],
   "source": [
    "min_err = 100\n",
    "for k in range(-50,50):\n",
    "    l = 10**(k)\n",
    "    try:\n",
    "        w = linear_regression_weight_decay(X,y,l)\n",
    "        test_X = non_linear_transform(out_sample_data[:,:2])\n",
    "        test_y = out_sample_data[:,2]\n",
    "        out_sample_err = get_error(test_X,w,test_y)\n",
    "        min_err = min(min_err, get_error(test_X,w,test_y))\n",
    "    except:\n",
    "        print('',end ='')\n",
    "print(min_err)"
   ]
  }
 ],
 "metadata": {
  "kernelspec": {
   "display_name": "Python 3 (ipykernel)",
   "language": "python",
   "name": "python3"
  },
  "language_info": {
   "codemirror_mode": {
    "name": "ipython",
    "version": 3
   },
   "file_extension": ".py",
   "mimetype": "text/x-python",
   "name": "python",
   "nbconvert_exporter": "python",
   "pygments_lexer": "ipython3",
   "version": "3.10.9"
  }
 },
 "nbformat": 4,
 "nbformat_minor": 5
}
