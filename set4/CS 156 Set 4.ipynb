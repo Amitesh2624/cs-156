{
 "cells": [
  {
   "cell_type": "code",
   "execution_count": 39,
   "id": "8f6725f2",
   "metadata": {},
   "outputs": [
    {
     "ename": "SyntaxError",
     "evalue": "invalid syntax (1400652126.py, line 1)",
     "output_type": "error",
     "traceback": [
      "\u001b[0;36m  Cell \u001b[0;32mIn[39], line 1\u001b[0;36m\u001b[0m\n\u001b[0;31m    import matplotlib.pyplot as plt and math\u001b[0m\n\u001b[0m                                    ^\u001b[0m\n\u001b[0;31mSyntaxError\u001b[0m\u001b[0;31m:\u001b[0m invalid syntax\n"
     ]
    }
   ],
   "source": [
    "import matplotlib.pyplot as plt\n",
    "import math\n",
    "def vcbound(N):\n",
    "    return ((8/N)*math.log((4*(2**50)*(N**50))/0.05))**0.5\n",
    "\n",
    "def rdbound(N):\n",
    "    return ((2*math.log(2*(N**51)))/(N))**0.5 + ((2/N)*(math.log((1)/(0.05))))*0.5 + 1/N\n",
    "\n",
    "def vdbound(N):\n",
    "    return (2 + (4 + 4*N*math.log(120*(2**50)*(N**50)))**0.5)/(2*N)\n",
    "\n",
    "def dvbound(N):\n",
    "    return (2 + (4 + 2*(N-2)*math.log(80*(N**100)))**0.5)/(2*(N-2))\n",
    "x = []\n",
    "y1 = []\n",
    "y2 = []\n",
    "y3 = []\n",
    "y4 = []\n",
    "for i in range(4000,10000):\n",
    "    x.append(i)\n",
    "    y1.append(vcbound(i))\n",
    "    y2.append(rdbound(i))\n",
    "    y3.append(vdbound(i))\n",
    "    y4.append(dvbound(i))\n",
    "\n",
    "plt.plot(x,y1, label = 'general vc')\n",
    "plt.plot(x,y2, label = 'rademacher penalty')\n",
    "plt.plot(x,y3, label = 'van den broek')\n",
    "plt.plot(x,y4, label = 'devroye')\n",
    "\n",
    "\n",
    "\n",
    "\n",
    "plt.xlabel('Sample Size (N)')\n",
    "plt.ylabel('E_in - E_out tolerance')\n",
    "plt.title('Generalization Error Bounds')\n",
    "\n",
    "# Show legend\n",
    "plt.legend()"
   ]
  },
  {
   "cell_type": "code",
   "execution_count": 40,
   "id": "4eef8cab",
   "metadata": {},
   "outputs": [
    {
     "name": "stdout",
     "output_type": "stream",
     "text": [
      "13.828161484991483\n",
      "6.553257357872088\n",
      "5.101361981989992\n",
      "5.593125543182669\n"
     ]
    }
   ],
   "source": [
    "print(vcbound(5))\n",
    "print(rdbound(5))\n",
    "print(vdbound(5))\n",
    "print(dvbound(5))"
   ]
  },
  {
   "cell_type": "code",
   "execution_count": 24,
   "id": "f0c8be3d",
   "metadata": {},
   "outputs": [
    {
     "name": "stdout",
     "output_type": "stream",
     "text": [
      "(0.0001000200040008265+0.43025600148030474j)\n"
     ]
    }
   ],
   "source": [
    "print(dvbound(10000))"
   ]
  },
  {
   "cell_type": "code",
   "execution_count": 168,
   "id": "92e0f3e8",
   "metadata": {},
   "outputs": [
    {
     "name": "stdout",
     "output_type": "stream",
     "text": [
      "1.4263900000000052\n"
     ]
    }
   ],
   "source": [
    "import random\n",
    "def sample():\n",
    "    p1 = random.uniform(-1,1)\n",
    "    p2 = random.uniform(-1,1)\n",
    "    return [p1,p2]\n",
    "\n",
    "def mse(actual_vals, hypo_vals):\n",
    "    n = len(actual_vals)\n",
    "    error_sum = 0\n",
    "    for i in range(n):\n",
    "        error_sum += (actual_vals[i] - hypo_vals[i])**2\n",
    "    return error_sum/n\n",
    "\n",
    "a_vals = []\n",
    "var_vals = []\n",
    "\n",
    "def minimize(actual_points):\n",
    "    x1 = actual_points[0]\n",
    "    x2 = actual_points[1]\n",
    "    y1 = math.sin(math.pi*x1)\n",
    "    y2 = math.sin(math.pi*x2)\n",
    "    slopes = []\n",
    "    slope_errors = []\n",
    "    for s in range(1, 100):\n",
    "        slope = s/10\n",
    "        hypo_vals = [(slope)*actual_points[0], (slope)*actual_points[1]]\n",
    "        slopes.append(slope)\n",
    "        slope_errors.append(mse([y1,y2], hypo_vals))\n",
    "    \n",
    "    \n",
    "    return slopes[slope_errors.index(min(slope_errors))]\n",
    "\n",
    "for i in range(10000):\n",
    "    a_vals.append(minimize(sample()))\n",
    "\n",
    "print(sum(a_vals)/len(a_vals))\n",
    "    "
   ]
  },
  {
   "cell_type": "code",
   "execution_count": 174,
   "id": "79ba0fc7",
   "metadata": {},
   "outputs": [
    {
     "name": "stdout",
     "output_type": "stream",
     "text": [
      "0.71512\n"
     ]
    }
   ],
   "source": [
    "sum_diffs = 0\n",
    "for i in range(1000):\n",
    "    sum_diffs += abs(a_vals[i] - 1.42)\n",
    "print(sum_diffs/1000)"
   ]
  },
  {
   "cell_type": "code",
   "execution_count": 178,
   "id": "302b7b6c",
   "metadata": {},
   "outputs": [
    {
     "name": "stdout",
     "output_type": "stream",
     "text": [
      "1.3348800000001253\n"
     ]
    }
   ],
   "source": [
    "a_vals = []\n",
    "\n",
    "def minimize2(actual_points):\n",
    "    x1 = actual_points[0]\n",
    "    x2 = actual_points[1]\n",
    "    y1 = math.sin(math.pi*x1)\n",
    "    y2 = math.sin(math.pi*x2)\n",
    "    slopes = []\n",
    "    slope_errors = []\n",
    "    for s in range(1, 100):\n",
    "        slope = s/10\n",
    "        hypo_vals = [(slope)*(actual_points[0]**2), (slope)*(actual_points[1]**2)]\n",
    "        slopes.append(slope)\n",
    "        slope_errors.append(mse([y1,y2], hypo_vals))\n",
    "    \n",
    "    \n",
    "    return slopes[slope_errors.index(min(slope_errors))]\n",
    "\n",
    "for i in range(10000):\n",
    "    a_vals.append(minimize2(sample()))\n",
    "\n",
    "print(sum(a_vals)/len(a_vals))\n",
    "    "
   ]
  },
  {
   "cell_type": "code",
   "execution_count": 180,
   "id": "bc5355b3",
   "metadata": {},
   "outputs": [
    {
     "name": "stdout",
     "output_type": "stream",
     "text": [
      "1.4915400000001064\n",
      "-0.2637800000000012\n"
     ]
    }
   ],
   "source": [
    "a_vals = []\n",
    "def minimize3(actual_points):\n",
    "    x1 = actual_points[0]\n",
    "    x2 = actual_points[1]\n",
    "    y1 = math.sin(math.pi*x1)\n",
    "    y2 = math.sin(math.pi*x2)\n",
    "    hypothesis = []\n",
    "    slope_errors = []\n",
    "    for s in range(1, 100):\n",
    "        slope = s/10\n",
    "        for k in range(-10, 10):\n",
    "            b = k/10\n",
    "            hypo_vals = [(slope)*(actual_points[0]**2) + b, (slope)*(actual_points[1]**2) + b]\n",
    "            hypothesis.append([slope, b])\n",
    "            slope_errors.append(mse([y1,y2], hypo_vals))\n",
    "    return hypothesis[slope_errors.index(min(slope_errors))]\n",
    "sumslope = 0\n",
    "sumintercept = 0\n",
    "for i in range(10000):\n",
    "    slope, intercept = minimize3(sample())\n",
    "    sumslope += slope\n",
    "    sumintercept += intercept\n",
    "print(sumslope/10000)\n",
    "print(sumintercept/10000)"
   ]
  },
  {
   "cell_type": "code",
   "execution_count": null,
   "id": "67742dbf",
   "metadata": {},
   "outputs": [],
   "source": []
  }
 ],
 "metadata": {
  "kernelspec": {
   "display_name": "Python 3 (ipykernel)",
   "language": "python",
   "name": "python3"
  },
  "language_info": {
   "codemirror_mode": {
    "name": "ipython",
    "version": 3
   },
   "file_extension": ".py",
   "mimetype": "text/x-python",
   "name": "python",
   "nbconvert_exporter": "python",
   "pygments_lexer": "ipython3",
   "version": "3.10.9"
  }
 },
 "nbformat": 4,
 "nbformat_minor": 5
}
