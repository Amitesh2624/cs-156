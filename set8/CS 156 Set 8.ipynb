{
 "cells": [
  {
   "cell_type": "code",
   "execution_count": 161,
   "id": "af5c2352",
   "metadata": {},
   "outputs": [],
   "source": [
    "import numpy as np\n",
    "import math\n",
    "from sklearn import svm, model_selection\n",
    "from sklearn.model_selection import RepeatedStratifiedKFold"
   ]
  },
  {
   "cell_type": "code",
   "execution_count": 9,
   "id": "87ee6dbc",
   "metadata": {},
   "outputs": [],
   "source": [
    "train_data = np.loadtxt('features.train')\n",
    "test_data = np.loadtxt('features.test')"
   ]
  },
  {
   "cell_type": "code",
   "execution_count": 152,
   "id": "d3522b2a",
   "metadata": {},
   "outputs": [],
   "source": [
    "x_train = train_data[:,1:]\n",
    "y_train = train_data[:,0]\n",
    "\n",
    "x_test = test_data[:,1:]\n",
    "y_test = test_data[:,0]"
   ]
  },
  {
   "cell_type": "code",
   "execution_count": 24,
   "id": "681d3b1b",
   "metadata": {},
   "outputs": [],
   "source": [
    "def binarize(posClass, yvals):\n",
    "    return np.array([1 if classval == posClass else -1 for classval in yvals])"
   ]
  },
  {
   "cell_type": "code",
   "execution_count": 172,
   "id": "9e5bfe06",
   "metadata": {},
   "outputs": [
    {
     "name": "stdout",
     "output_type": "stream",
     "text": [
      "-------------------------\n",
      "Classifier: 0 versus all\n",
      "Ein: 0.10588396653408316\n",
      "Support vector size: 2179\n",
      "-------------------------\n",
      "Classifier: 1 versus all\n",
      "Ein: 0.014401316691811772\n",
      "Support vector size: 386\n",
      "-------------------------\n",
      "Classifier: 2 versus all\n",
      "Ein: 0.10026059525442321\n",
      "Support vector size: 1970\n",
      "-------------------------\n",
      "Classifier: 3 versus all\n",
      "Ein: 0.09024825126868741\n",
      "Support vector size: 1964\n",
      "-------------------------\n",
      "Classifier: 4 versus all\n",
      "Ein: 0.08942531888629812\n",
      "Support vector size: 1856\n",
      "-------------------------\n",
      "Classifier: 5 versus all\n",
      "Ein: 0.07625840076807022\n",
      "Support vector size: 1585\n",
      "-------------------------\n",
      "Classifier: 6 versus all\n",
      "Ein: 0.09107118365107669\n",
      "Support vector size: 1893\n",
      "-------------------------\n",
      "Classifier: 7 versus all\n",
      "Ein: 0.08846523110684401\n",
      "Support vector size: 1704\n",
      "-------------------------\n",
      "Classifier: 8 versus all\n",
      "Ein: 0.074338225209162\n",
      "Support vector size: 1776\n",
      "-------------------------\n",
      "Classifier: 9 versus all\n",
      "Ein: 0.08832807570977919\n",
      "Support vector size: 1978\n"
     ]
    }
   ],
   "source": [
    "C, Q = [0.01, 2]\n",
    "avg_vec_size = 0\n",
    "for classval in range(10):\n",
    "    binary_y_train = binarize(classval, y_train)\n",
    "    binary_y_test = binarize(classval, y_test)\n",
    "    model = svm.SVC(kernel='poly', C=C, degree=Q, gamma=1.0, coef0=1.0)\n",
    "    model.fit(x_train, binary_y_train)\n",
    "    print('-'*25, end = '\\n')\n",
    "    print('Classifier: ' + str(classval) + ' versus all')\n",
    "    print('Ein: ' + str(1 - model.score(x_train, binary_y_train)))\n",
    "    print('Support vector size: ' + str(sum(model.n_support_)))\n"
   ]
  },
  {
   "cell_type": "code",
   "execution_count": 30,
   "id": "17fc31d1",
   "metadata": {},
   "outputs": [
    {
     "name": "stdout",
     "output_type": "stream",
     "text": [
      "1793\n"
     ]
    }
   ],
   "source": [
    "print(2179 - 386)"
   ]
  },
  {
   "cell_type": "code",
   "execution_count": 153,
   "id": "6c43fe67",
   "metadata": {},
   "outputs": [],
   "source": [
    "def retain_classes(xvals, yvals, classOne, classTwo):\n",
    "    idxs = []\n",
    "    for i in range(yvals.shape[0]):\n",
    "        if yvals[i] not in [classOne, classTwo]:\n",
    "            idxs.append(i)\n",
    "    new_y_vals = np.delete(yvals, idxs)\n",
    "    new_x_vals = np.delete(xvals, idxs, 0)\n",
    "    return (new_x_vals, new_y_vals)"
   ]
  },
  {
   "cell_type": "code",
   "execution_count": 165,
   "id": "6e63f60e",
   "metadata": {},
   "outputs": [
    {
     "name": "stdout",
     "output_type": "stream",
     "text": [
      "-------------------------\n",
      "For C = 0.001\n",
      "Support Vector Size: 76\n",
      "Ein: 0.004484304932735439\n",
      "Eout: 0.01650943396226412\n",
      "-------------------------\n",
      "For C = 0.01\n",
      "Support Vector Size: 34\n",
      "Ein: 0.004484304932735439\n",
      "Eout: 0.018867924528301883\n",
      "-------------------------\n",
      "For C = 0.1\n",
      "Support Vector Size: 24\n",
      "Ein: 0.004484304932735439\n",
      "Eout: 0.018867924528301883\n",
      "-------------------------\n",
      "For C = 1\n",
      "Support Vector Size: 24\n",
      "Ein: 0.0032030749519538215\n",
      "Eout: 0.018867924528301883\n"
     ]
    }
   ],
   "source": [
    "Q = 2\n",
    "Cvals = [0.001, 0.01, 0.1, 1]\n",
    "\n",
    "for C in Cvals:\n",
    "    x_train_1v5, y_train_1v5 = retain_classes(x_train, y_train, 1, 5)\n",
    "    x_test_1v5, y_test_1v5 = retain_classes(x_test, y_test, 1, 5)\n",
    "    model = svm.SVC(kernel='poly', C=C, degree=Q, gamma=1.0, coef0=1.0)\n",
    "    model.fit(x_train_1v5, y_train_1v5)\n",
    "    print('-'*25)\n",
    "    print('For C = ' + str(C), end = '\\n')\n",
    "    print('Support Vector Size: ' + str(sum(model.n_support_)))\n",
    "    print('Ein: ' + str(1 - model.score(x_train_1v5, y_train_1v5)))\n",
    "    print('Eout: ' + str(1 - model.score(x_test_1v5, y_test_1v5)))"
   ]
  },
  {
   "cell_type": "code",
   "execution_count": 166,
   "id": "459a878e",
   "metadata": {},
   "outputs": [
    {
     "name": "stdout",
     "output_type": "stream",
     "text": [
      "-------------------------\n",
      "For C = 0.001 and Q = 2\n",
      "Support Vector Size: 76\n",
      "Ein: 0.01650943396226412\n",
      "-------------------------\n",
      "For C = 0.01 and Q = 2\n",
      "Support Vector Size: 34\n",
      "Ein: 0.018867924528301883\n",
      "-------------------------\n",
      "For C = 0.1 and Q = 2\n",
      "Support Vector Size: 24\n",
      "Ein: 0.018867924528301883\n",
      "-------------------------\n",
      "For C = 1 and Q = 2\n",
      "Support Vector Size: 24\n",
      "Ein: 0.018867924528301883\n",
      "-------------------------\n",
      "For C = 0.001 and Q = 5\n",
      "Support Vector Size: 25\n",
      "Ein: 0.021226415094339646\n",
      "-------------------------\n",
      "For C = 0.01 and Q = 5\n",
      "Support Vector Size: 23\n",
      "Ein: 0.021226415094339646\n",
      "-------------------------\n",
      "For C = 0.1 and Q = 5\n",
      "Support Vector Size: 25\n",
      "Ein: 0.018867924528301883\n",
      "-------------------------\n",
      "For C = 1 and Q = 5\n",
      "Support Vector Size: 21\n",
      "Ein: 0.021226415094339646\n"
     ]
    }
   ],
   "source": [
    "Qvals = [2, 5]\n",
    "Cvals = [0.001, 0.01, 0.1, 1]\n",
    "\n",
    "for Q in Qvals:\n",
    "    for C in Cvals:\n",
    "        x_train_1v5, y_train_1v5 = retain_classes(x_train, y_train, 1, 5)\n",
    "        x_test_1v5, y_test_1v5 = retain_classes(x_test, y_test, 1, 5)\n",
    "        model = svm.SVC(kernel='poly', C=C, degree=Q, gamma=1.0, coef0=1.0)\n",
    "        model.fit(x_train_1v5, y_train_1v5)\n",
    "        print('-'*25)\n",
    "        print('For C = ' + str(C) + ' and Q = ' + str(Q), end = '\\n')\n",
    "        print('Support Vector Size: ' + str(sum(model.n_support_)))\n",
    "        print('Ein: ' + str(1 - model.score(x_test_1v5, y_test_1v5)))"
   ]
  },
  {
   "cell_type": "code",
   "execution_count": 167,
   "id": "77b2ca39",
   "metadata": {
    "scrolled": false
   },
   "outputs": [],
   "source": [
    "Q = 2\n",
    "rskf = RepeatedStratifiedKFold(n_splits=10, n_repeats=100)\n",
    "Cvalss = [0.0001, 0.001, 0.01, 0.1, 1]\n",
    "chosenct = []\n",
    "for idxt, idxv in rskf.split(x_train_1v5, y_train_1v5):\n",
    "    x_train_iter, x_val_iter = x_train_1v5[idxt], x_train_1v5[idxv]\n",
    "    y_train_iter, y_val_iter = y_train_1v5[idxt], y_train_1v5[idxv]\n",
    "    mostaccurate = 0\n",
    "    chosenOne = None\n",
    "    for C in Cvals:\n",
    "        model = svm.SVC(kernel='poly', C=C, degree=Q, gamma=1.0, coef0=1.0)\n",
    "        model.fit(x_train_iter, y_train_iter)\n",
    "        acc = model.score(x_val_iter, y_val_iter)\n",
    "        if acc > mostaccurate:\n",
    "            mostaccurate = acc\n",
    "            chosenOne = C\n",
    "    chosenct.append(chosenOne)"
   ]
  },
  {
   "cell_type": "code",
   "execution_count": 117,
   "id": "30e50ddb",
   "metadata": {},
   "outputs": [
    {
     "name": "stdout",
     "output_type": "stream",
     "text": [
      "C: 0.0001 was chosen 364 times\n",
      "C: 0.001 was chosen 526 times\n",
      "C: 0.01 was chosen 45 times\n",
      "C: 0.1 was chosen 25 times\n",
      "C: 1 was chosen 40 times\n"
     ]
    }
   ],
   "source": [
    "for C in Cvals:\n",
    "    print('C: ' + str(C) + ' was chosen ' + str(chosenct.count(C)) + ' times')"
   ]
  },
  {
   "cell_type": "code",
   "execution_count": 120,
   "id": "9e161b89",
   "metadata": {},
   "outputs": [
    {
     "data": {
      "text/plain": [
       "0.004753143883717059"
      ]
     },
     "execution_count": 120,
     "metadata": {},
     "output_type": "execute_result"
    }
   ],
   "source": [
    "C = 0.001\n",
    "rskf = RepeatedStratifiedKFold(n_splits=10, n_repeats=100)\n",
    "model = svm.SVC(kernel='poly', C=C, degree=Q, gamma=1.0, coef0=1.0, cache_size=20000)\n",
    "1 - model_selection.cross_val_score(model, x_train_1v5, y_train_1v5, cv=rskf).mean()"
   ]
  },
  {
   "cell_type": "code",
   "execution_count": 160,
   "id": "00b88f3c",
   "metadata": {},
   "outputs": [
    {
     "name": "stdout",
     "output_type": "stream",
     "text": [
      "-------------------------\n",
      "C: 0.01\n",
      "Ein: 0.0038436899423446302\n",
      "Eout: 0.02358490566037741\n",
      "-------------------------\n",
      "C: 1\n",
      "Ein: 0.004484304932735439\n",
      "Eout: 0.021226415094339646\n",
      "-------------------------\n",
      "C: 100\n",
      "Ein: 0.0032030749519538215\n",
      "Eout: 0.018867924528301883\n",
      "-------------------------\n",
      "C: 10000\n",
      "Ein: 0.002562459961563124\n",
      "Eout: 0.02358490566037741\n",
      "-------------------------\n",
      "C: 1000000\n",
      "Ein: 0.0006406149903908087\n",
      "Eout: 0.02358490566037741\n"
     ]
    }
   ],
   "source": [
    "x_train_1v5, y_train_1v5 = retain_classes(x_train, y_train, 1, 5)\n",
    "x_test_1v5, y_test_1v5 = retain_classes(x_test, y_test, 1, 5)\n",
    "Cvals = [0.01, 1, 100, 10000, 1000000]\n",
    "for C in Cvals:\n",
    "    model = svm.SVC(kernel='rbf', C=C, degree=Q, gamma=1.0, cache_size=20000)\n",
    "    model.fit(x_train_1v5, y_train_1v5)\n",
    "    print('-'*25, end = '\\n')\n",
    "    print('C: ' + str(C))\n",
    "    print('Ein: ' +  str(1 - model.score(x_train_1v5, y_train_1v5)))\n",
    "    print('Eout: ' + str(1 - model.score(x_test_1v5, y_test_1v5)))"
   ]
  },
  {
   "cell_type": "code",
   "execution_count": null,
   "id": "98ca121d",
   "metadata": {},
   "outputs": [],
   "source": []
  }
 ],
 "metadata": {
  "kernelspec": {
   "display_name": "Python 3 (ipykernel)",
   "language": "python",
   "name": "python3"
  },
  "language_info": {
   "codemirror_mode": {
    "name": "ipython",
    "version": 3
   },
   "file_extension": ".py",
   "mimetype": "text/x-python",
   "name": "python",
   "nbconvert_exporter": "python",
   "pygments_lexer": "ipython3",
   "version": "3.10.9"
  }
 },
 "nbformat": 4,
 "nbformat_minor": 5
}
